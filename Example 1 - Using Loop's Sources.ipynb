{
 "cells": [
  {
   "cell_type": "markdown",
   "metadata": {},
   "source": [
    "# Loop Workflow Example 1"
   ]
  },
  {
   "cell_type": "markdown",
   "metadata": {},
   "source": [
    "* High level approach to making a 3D model from just a bounding box (in Australia only for now). Simply run all the cells of the notebook. \n",
    "* This requires an internet connection to access remote data, for a local data version see Example 3."
   ]
  },
  {
   "cell_type": "code",
   "execution_count": null,
   "metadata": {},
   "outputs": [],
   "source": [
    "#if not already installed:\n",
    "#!conda install -c loop3d map2loop loopstructural pyamg meshio"
   ]
  },
  {
   "cell_type": "markdown",
   "metadata": {},
   "source": [
    "### Optional:\n",
    "Create a config dictionary that specifies the column names and description texts to process the shape files"
   ]
  },
  {
   "cell_type": "code",
   "execution_count": null,
   "metadata": {},
   "outputs": [],
   "source": [
    "config_dict = {\n",
    "    \"structure\" : {\n",
    "        \"orientation_type\": \"strike\",\n",
    "        \"dipdir_column\": \"strike\",\n",
    "        \"dip_column\": \"dip\",\n",
    "        \"description_column\": \"feature\",\n",
    "        \"bedding_text\": \"Bed\",\n",
    "        \"overturned_column\": \"structypei\",\n",
    "        \"overturned_text\": \"BEOI\",\n",
    "        \"objectid_column\": \"geopnt_id\",\n",
    "    },\n",
    "    \"geology\" : {\n",
    "        \"unitname_column\": \"unitname\",\n",
    "        \"alt_unitname_column\": \"code\",\n",
    "        \"group_column\": \"group_\",\n",
    "        \"supergroup_column\": \"supersuite\",\n",
    "        \"description_column\": \"descriptn\",\n",
    "        \"minage_column\": \"min_age_ma\",\n",
    "        \"maxage_column\": \"max_age_ma\",\n",
    "        \"rocktype_column\": \"rocktype1\",\n",
    "        \"alt_rocktype_column\": \"rocktype2\",\n",
    "        \"sill_text\": \"is a sill\",\n",
    "        \"intrusive_text\": \"intrusive\",\n",
    "        \"volcanic_text\": \"volcanic\",\n",
    "        \"objectid_column\": \"objectid\",\n",
    "        \"ignore_codes\": [\"cover\"],\n",
    "    },\n",
    "    \"fault\" : {\n",
    "        \"structtype_column\": \"feature\",\n",
    "        \"fault_text\": \"Fault\",\n",
    "        \"dip_null_value\": \"0\",\n",
    "        \"dipdir_flag\": \"num\",\n",
    "        \"dipdir_column\": \"dip_dir\",\n",
    "        \"dip_column\": \"dip\",\n",
    "        \"orientation_type\": \"dip direction\",\n",
    "        \"dipestimate_column\": \"dip_est\",\n",
    "        \"dipestimate_text\": \"gentle,moderate,steep\",\n",
    "        \"name_column\": \"name\",\n",
    "        \"objectid_column\": \"objectid\",\n",
    "    },\n",
    "    \"fold\" : {\n",
    "        \"structtype_column\": \"feature\",\n",
    "        \"fold_text\": \"Fold axial trace\",\n",
    "        \"description_column\": \"type\",\n",
    "        \"synform_text\": \"syncline\",\n",
    "        \"foldname_column\": \"name\",\n",
    "        \"objectid_column\": \"objectid\",\n",
    "    }\n",
    "}"
   ]
  },
  {
   "cell_type": "markdown",
   "metadata": {},
   "source": [
    "## Map2Loop"
   ]
  },
  {
   "cell_type": "code",
   "execution_count": null,
   "metadata": {},
   "outputs": [],
   "source": [
    "import time\n",
    "import os\n",
    "from map2loop.project import Project\n",
    "from map2loop.m2l_enums import VerboseLevel, Datatype\n",
    "from map2loop.sorter import SorterAlpha, SorterAgeBased, SorterUseHint, SorterUseNetworkX, SorterMaximiseContacts, SorterObservationProjections\n",
    "from map2loop.thickness_calculator import ThicknessCalculatorAlpha, InterpolatedStructure, StructuralPoint\n",
    "from map2loop.sampler import SamplerSpacing\n",
    "from datetime import datetime\n",
    "\n",
    "# os.environ[\"DOCUMENTATION_TEST\"] = \"True\"\n",
    "\n",
    "t0 = time.time()\n",
    "\n",
    "# Set the region of interest for the project\n",
    "bbox_3d = {\n",
    "    \"minx\": 515687.31005864,\n",
    "    \"miny\": 7493446.76593407,\n",
    "    \"maxx\": 562666.860106543,\n",
    "    \"maxy\": 7521273.57407786,\n",
    "    \"base\": -3200,\n",
    "    \"top\": 3000,\n",
    "}\n",
    "\n",
    "# Specify minimum details (Australian state, projection, bounding box and output file)\n",
    "# Optional: the config information manually created in the config_dict can be used by\n",
    "# setting the parameter config_dictionary\n",
    "loop_project_filename=\"wa_output.loop3d\"\n",
    "proj = Project( \n",
    "    use_australian_state_data = \"WA\",\n",
    "    # config_dictionary = config_dict,\n",
    "    working_projection = \"EPSG:28350\",\n",
    "    bounding_box = bbox_3d,\n",
    "    verbose_level = VerboseLevel.NONE,\n",
    "    loop_project_filename = loop_project_filename,\n",
    "    overwrite_loopprojectfile = True\n",
    ")\n",
    "\n",
    "# Specify that the text to look for (in the unit description) to indicate a sill is not just \"sill\"\n",
    "proj.map_data.config.update_from_dictionary({\"geology\": {\"sill_text\":\"is a sill\"}})\n",
    "\n",
    "# Set the distance between sample points for arial and linestring geometry\n",
    "proj.set_sampler(Datatype.GEOLOGY, SamplerSpacing(200.0))\n",
    "proj.set_sampler(Datatype.FAULT, SamplerSpacing(200.0))\n",
    "\n",
    "# Choose which thickness calculator to use\n",
    "# proj.set_thickness_calculator(ThicknessCalculatorAlpha())\n",
    "# proj.set_thickness_calculator(InterpolatedStructure())\n",
    "proj.set_thickness_calculator(StructuralPoint())\n",
    "\n",
    "# Choose which stratigraphic sorter to use or run_all with \"take_best\" flag to run them all\n",
    "# proj.set_sorter(SorterAlpha())\n",
    "# proj.set_sorter(SorterAgeBased())\n",
    "# proj.set_sorter(SorterUseHint())\n",
    "proj.set_sorter(SorterUseNetworkX())\n",
    "# proj.set_sorter(SorterMaximiseContacts())\n",
    "# proj.set_sorter(SorterObservationProjections())\n",
    "proj.run_all()\n",
    "\n",
    "#   or\n",
    "# proj.run_all(take_best=True)\n",
    "\n",
    "t1 = time.time()"
   ]
  },
  {
   "cell_type": "markdown",
   "metadata": {},
   "source": [
    "## Extract Information from project"
   ]
  },
  {
   "cell_type": "code",
   "execution_count": null,
   "metadata": {},
   "outputs": [],
   "source": [
    "# Save raw map data to local zipped shapefiles\n",
    "proj.save_mapdata_to_files(\"output_files\",\".shp.zip\")"
   ]
  },
  {
   "cell_type": "code",
   "execution_count": null,
   "metadata": {},
   "outputs": [],
   "source": [
    "# Draw overlay of point data on geology map (can also try 'contacts','orientations','faults')\n",
    "proj.draw_geology_map(overlay=\"contacts\")"
   ]
  },
  {
   "cell_type": "code",
   "execution_count": null,
   "metadata": {},
   "outputs": [],
   "source": [
    "# Extract map2loop estimate of the stratigraphic column\n",
    "print(proj.stratigraphic_column.column)"
   ]
  },
  {
   "cell_type": "code",
   "execution_count": null,
   "metadata": {},
   "outputs": [],
   "source": [
    "# Save geology map as a raster map in a specified projection (useful for overlays on online maps)\n",
    "proj.save_geotiff_raster(filename=os.path.join(proj.map_data.tmp_path,\"geol.tif\"), projection=\"epsg:3857\")"
   ]
  },
  {
   "cell_type": "markdown",
   "metadata": {},
   "source": [
    "## Loop Structural"
   ]
  },
  {
   "cell_type": "code",
   "execution_count": null,
   "metadata": {
    "scrolled": true
   },
   "outputs": [],
   "source": [
    "import LoopProjectFile as LPF\n",
    "import LoopStructural\n",
    "from LoopStructural.visualisation import LavaVuModelViewer\n",
    "from LoopStructural.modelling.input.project_file import LoopProjectfileProcessor as LPFProcessor\n",
    "\n",
    "from scipy.interpolate import RegularGridInterpolator\n",
    "from osgeo import gdal\n",
    "import pandas as pd\n",
    "import numpy as np\n",
    "\n",
    "# LoopStructural Modelling\n",
    "t2 = time.time()\n",
    "fault_params = {\n",
    "    'interpolatortype':'FDI',\n",
    "    'nelements':1e4,\n",
    "}\n",
    "foliation_params = {\n",
    "    'interpolatortype':'FDI' , # 'interpolatortype':'PLI',\n",
    "    'nelements':1e5,  # how many tetras/voxels\n",
    "    'regularisation':5,\n",
    "}\n",
    "projFile = LPF.ProjectFile(loop_project_filename)\n",
    "processedData = LPFProcessor(projFile)\n",
    "processedData.foliation_properties['sg'] = foliation_params\n",
    "processedData.fault_properties['interpolatortype'] = fault_params['interpolatortype']\n",
    "processedData.fault_properties['nelements'] = fault_params['nelements']\n",
    "\n",
    "model = LoopStructural.GeologicalModel.from_processor(processedData)\n",
    "model.nsteps=np.array([200,200,50])\n",
    "model.update()\n",
    "\n",
    "\n",
    "clip_on_dtm=True\n",
    "if(clip_on_dtm):\n",
    "    bounding_box = proj.map_data.get_bounding_box()\n",
    "    minx = bounding_box['minx']\n",
    "    maxx = bounding_box['maxx']\n",
    "    miny = bounding_box['miny']\n",
    "    maxy = bounding_box['maxy']\n",
    "    model_base = bounding_box['base']\n",
    "    model_top = bounding_box['top']\n",
    "    dtm = gdal.Open(os.path.join(\"m2l_data_tmp\", \"StupidGDALLocalFile.tif\"))\n",
    "    dtm_val = dtm.GetRasterBand(1).ReadAsArray().T\n",
    "    # Convert bounds to gdal raster bounds\n",
    "    x = np.linspace(minx, maxx, dtm_val.shape[0])\n",
    "    y = np.linspace(maxy, miny, dtm_val.shape[1])\n",
    "    dtm_interpolator = RegularGridInterpolator((x,y), dtm_val)\n",
    "    model.dtm = lambda xyz : dtm_interpolator(xyz[:,:2])\n",
    "\n",
    "# Lavavu viewer\n",
    "filename = os.path.join('.','vtk','surface_name_{}.vtk')\n",
    "view = LavaVuModelViewer(model)\n",
    "view.nsteps=np.array([500,500,50])\n",
    "for sg in model.feature_name_index:\n",
    "    if( 'super' in sg):\n",
    "        view.add_data(model.features[model.feature_name_index[sg]])\n",
    "view.nelements = 1e5\n",
    "view.add_model_surfaces(filename=filename,faults=False)\n",
    "view.nelements=1e6\n",
    "view.add_model_surfaces(filename=filename,strati=False,displacement_cmap = 'rainbow')\n",
    "view.nsteps = np.array([500,500,50])\n",
    "if(clip_on_dtm):\n",
    "    colours = list(pd.DataFrame(data=proj.stratigraphic_column.column,columns=[\"name\"]).merge(proj.stratigraphic_column.stratigraphicUnits[[\"name\",\"colour\"]], on=\"name\")[\"colour\"])\n",
    "    colours.reverse()\n",
    "    view.add_dtm(paint_with=lambda xyz: model.evaluate_model(xyz,scale=False), cmap=colours)\n",
    "view.add_model()\n",
    "\n",
    "view.lv.control.Range('alpha', label=\"Global Opacity\")\n",
    "view.lv.control.DualRange(['xmin', 'xmax'], label=\"x clip\", step=0.01, values=[0.0,1.0])\n",
    "view.lv.control.DualRange(['ymin', 'ymax'], label=\"y clip\", step=0.01, values=[0.0,1.0])\n",
    "view.lv.control.DualRange(['zmin', 'zmax'], label=\"z clip\", step=0.01, values=[0.0,1.0])\n",
    "view.lv.control.Range(command='background', range=(0,1), step=0.1, value=0.8)\n",
    "\n",
    "# Show the control panel, including the viewer window\n",
    "view.lv.control.show()\n",
    "view.interactive()\n",
    "\n",
    "t3 = time.time()"
   ]
  },
  {
   "cell_type": "markdown",
   "metadata": {},
   "source": [
    "## Elapsed Time"
   ]
  },
  {
   "cell_type": "code",
   "execution_count": null,
   "metadata": {},
   "outputs": [],
   "source": [
    "# Print element and total processing time\n",
    "m2l_time = t1-t0\n",
    "ls_time = t3-t2\n",
    "total = t3-t0\n",
    "\n",
    "m2l_string = f\"{m2l_time} sec\" if m2l_time < 60 else f\"{m2l_time/60.0} min\"\n",
    "ls_string = f\"{ls_time} sec\" if ls_time < 60 else f\"{ls_time/60.0} min\"\n",
    "total_string = f\"{total} sec\" if total < 60 else f\"{total/60.0} min\"\n",
    "print(f\"map2loop {m2l_string}, LoopStructural {ls_string}, Total {total_string}\")"
   ]
  },
  {
   "cell_type": "code",
   "execution_count": null,
   "metadata": {},
   "outputs": [],
   "source": []
  }
 ],
 "metadata": {
  "kernelspec": {
   "display_name": "Python 3 (ipykernel)",
   "language": "python",
   "name": "python3"
  },
  "language_info": {
   "codemirror_mode": {
    "name": "ipython",
    "version": 3
   },
   "file_extension": ".py",
   "mimetype": "text/x-python",
   "name": "python",
   "nbconvert_exporter": "python",
   "pygments_lexer": "ipython3",
   "version": "3.11.8"
  }
 },
 "nbformat": 4,
 "nbformat_minor": 4
}
