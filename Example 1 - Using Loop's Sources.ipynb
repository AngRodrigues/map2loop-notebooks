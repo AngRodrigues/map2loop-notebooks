{
 "cells": [
  {
   "cell_type": "markdown",
   "metadata": {},
   "source": [
    "# Loop Workflow Example 1"
   ]
  },
  {
   "cell_type": "markdown",
   "metadata": {},
   "source": [
    "* High level approach to making a 3D model from just a bounding box (in Australia only for now). Simply run all the cells of the notebook. \n",
    "* This requires an internet connection to access remote data, for a local data version see Example 3."
   ]
  },
  {
   "cell_type": "markdown",
   "metadata": {},
   "source": [
    "## Map2Loop"
   ]
  },
  {
   "cell_type": "code",
   "execution_count": null,
   "metadata": {
    "scrolled": false
   },
   "outputs": [],
   "source": [
    "import time\n",
    "import os\n",
    "from map2loop.project import Project\n",
    "from map2loop.m2l_enums import VerboseLevel\n",
    "from datetime import datetime\n",
    "\n",
    "\n",
    "t0 = time.time()\n",
    "\n",
    "bbox_3d = { # region of interest for GMD paper\n",
    "    \"minx\": 515687.31005864,\n",
    "    \"miny\": 7473446.76593407,\n",
    "    \"maxx\": 562666.860106543,\n",
    "    \"maxy\": 7521273.57407786,\n",
    "    \"base\": -3200,\n",
    "    \"top\": 0,\n",
    "}\n",
    "loop_project_filename=\"wa_output.loop3d\"\n",
    "\n",
    "proj = Project( \n",
    "    use_australian_state_data = \"WA\",\n",
    "    working_projection = \"EPSG:28350\",\n",
    "    bounding_box = bbox_3d,\n",
    "    verbose_level = VerboseLevel.NONE,\n",
    "    loop_project_filename = loop_project_filename\n",
    ")\n",
    "\n",
    "proj.run_all()\n",
    "t1 = time.time()"
   ]
  },
  {
   "cell_type": "markdown",
   "metadata": {},
   "source": [
    "## Loop Structural"
   ]
  },
  {
   "cell_type": "code",
   "execution_count": null,
   "metadata": {
    "scrolled": false
   },
   "outputs": [],
   "source": [
    "import numpy as np\n",
    "import LoopProjectFile as LPF\n",
    "import LoopStructural\n",
    "from LoopStructural.visualisation import LavaVuModelViewer\n",
    "from LoopStructural.modelling.input.project_file import LoopProjectfileProcessor as LPFProcessor\n",
    "\n",
    "\n",
    "# LoopStructural Modelling\n",
    "t2 = time.time()\n",
    "fault_params = {\n",
    "    'interpolatortype':'FDI',\n",
    "    'nelements':1e4,\n",
    "}\n",
    "foliation_params = {\n",
    "    'interpolatortype':'FDI' , # 'interpolatortype':'PLI',\n",
    "    'nelements':1e5,  # how many tetras/voxels\n",
    "    'regularisation':5,\n",
    "}\n",
    "projFile = LPF.ProjectFile(loop_project_filename)\n",
    "processedData = LPFProcessor(projFile)\n",
    "processedData.foliation_properties['sg'] = foliation_params\n",
    "processedData.fault_properties['interpolatortype'] = fault_params['interpolatortype']\n",
    "processedData.fault_properties['nelements'] = fault_params['nelements']\n",
    "\n",
    "model = LoopStructural.GeologicalModel.from_processor(processedData)\n",
    "model.update()\n",
    "\n",
    "# Lavavu viewer\n",
    "filename = os.path.join('.','vtk','surface_name_{}.vtk')\n",
    "view = LavaVuModelViewer(model)\n",
    "view.nsteps=np.array([50,50,50])\n",
    "for sg in model.feature_name_index:\n",
    "    if( 'super' in sg):\n",
    "        view.add_data(model.features[model.feature_name_index[sg]])\n",
    "view.nelements = 1e5\n",
    "view.add_model_surfaces(filename=filename,faults=False)\n",
    "view.nelements=1e6\n",
    "view.add_model_surfaces(filename=filename,strati=False,displacement_cmap = 'rainbow')\n",
    "view.nsteps = np.array([200,200,200])\n",
    "view.add_model()\n",
    "\n",
    "view.lv.control.Range('alpha', label=\"Global Opacity\")\n",
    "view.lv.control.DualRange(['xmin', 'xmax'], label=\"x clip\", step=0.01, values=[0.0,1.0])\n",
    "view.lv.control.DualRange(['ymin', 'ymax'], label=\"y clip\", step=0.01, values=[0.0,1.0])\n",
    "view.lv.control.DualRange(['zmin', 'zmax'], label=\"z clip\", step=0.01, values=[0.0,1.0])\n",
    "view.lv.control.Range(command='background', range=(0,1), step=0.1, value=0.8)\n",
    "\n",
    "# Show the control panel, including the viewer window\n",
    "view.lv.control.show()\n",
    "view.interactive()\n",
    "\n",
    "t3 = time.time()"
   ]
  },
  {
   "cell_type": "markdown",
   "metadata": {},
   "source": [
    "## Elapsed Time"
   ]
  },
  {
   "cell_type": "code",
   "execution_count": null,
   "metadata": {},
   "outputs": [],
   "source": [
    "# Print element and total processing time\n",
    "m2l_time = t1-t0\n",
    "ls_time = t3-t2\n",
    "total = t3-t0\n",
    "\n",
    "m2l_string = f\"{m2l_time} sec\" if m2l_time < 60 else f\"{m2l_time/60.0} min\"\n",
    "ls_string = f\"{ls_time} sec\" if ls_time < 60 else f\"{ls_time/60.0} min\"\n",
    "total_string = f\"{total} sec\" if total < 60 else f\"{total/60.0} min\"\n",
    "print(f\"map2loop {m2l_string}, LoopStructural {ls_string}, Total {total_string}\")"
   ]
  },
  {
   "cell_type": "markdown",
   "metadata": {},
   "source": [
    "## Extract Information from project"
   ]
  },
  {
   "cell_type": "code",
   "execution_count": null,
   "metadata": {},
   "outputs": [],
   "source": [
    "# Save raw map data to local zipped shapefiles\n",
    "proj.save_mapdata_to_files(\".\\output_files\",\".shp.zip\")"
   ]
  },
  {
   "cell_type": "code",
   "execution_count": null,
   "metadata": {},
   "outputs": [],
   "source": [
    "# Draw overlay of point data on geology map (can also try 'contacts','orientations','faults')\n",
    "proj.draw_geology_map(overlay=\"faults\")"
   ]
  },
  {
   "cell_type": "code",
   "execution_count": null,
   "metadata": {},
   "outputs": [],
   "source": [
    "# Extract estimate of the stratigraphic column\n",
    "print(proj.stratigraphic_column.column)"
   ]
  },
  {
   "cell_type": "code",
   "execution_count": null,
   "metadata": {},
   "outputs": [],
   "source": []
  }
 ],
 "metadata": {
  "kernelspec": {
   "display_name": "Python 3 (ipykernel)",
   "language": "python",
   "name": "python3"
  },
  "language_info": {
   "codemirror_mode": {
    "name": "ipython",
    "version": 3
   },
   "file_extension": ".py",
   "mimetype": "text/x-python",
   "name": "python",
   "nbconvert_exporter": "python",
   "pygments_lexer": "ipython3",
   "version": "3.9.15"
  }
 },
 "nbformat": 4,
 "nbformat_minor": 4
}
