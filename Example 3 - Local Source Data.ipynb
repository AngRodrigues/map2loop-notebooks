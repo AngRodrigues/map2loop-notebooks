{
 "cells": [
  {
   "cell_type": "markdown",
   "metadata": {},
   "source": [
    "# Loop Workflow Example 3"
   ]
  },
  {
   "cell_type": "markdown",
   "metadata": {},
   "source": [
    "* High level approach to making a 3D model from just a bounding box and source files as input. (In Australia only for now. Documentation to come)\n",
    "* This notebook uses example data provided by the Geological Survey of Western Australia.\n",
    "* To run with your own data you will need to run the Utility 1 notebook to create an hjson config file and supply your own dtm model (service or geotif file in local coordinate system)"
   ]
  },
  {
   "cell_type": "markdown",
   "metadata": {},
   "source": [
    "## Map2Loop"
   ]
  },
  {
   "cell_type": "code",
   "execution_count": null,
   "metadata": {
    "scrolled": false
   },
   "outputs": [],
   "source": [
    "import os\n",
    "from map2loop.project import Project\n",
    "from map2loop.m2l_enums import VerboseLevel\n",
    "from map2loop.m2l_enums import Datatype\n",
    "from map2loop.sampler import SamplerSpacing, SamplerDecimator\n",
    "from map2loop.sorter import SorterUseHint, SorterUseNetworkX, SorterAgeBased, SorterAlpha\n",
    "import time\n",
    "\n",
    "from datetime import datetime\n",
    "nowtime=datetime.now().isoformat(timespec='minutes')   \n",
    "model_name=nowtime.replace(\":\",\"-\").replace(\"T\",\"-\")\n",
    "loop_project_filename = os.path.join(model_name, \"local_source.loop3d\")\n",
    "\n",
    "t0 = time.time()\n",
    "\n",
    "bounding_box = {\n",
    "    \"minx\": 520000,\n",
    "    \"miny\": 7490000,\n",
    "    \"maxx\": 550000,\n",
    "    \"maxy\": 7510000,\n",
    "    \"base\": -3200,\n",
    "    \"top\": 1200,\n",
    "}\n",
    "proj = Project( \n",
    "    geology_filename = \"./source_data/geol_clip.shp\",\n",
    "    fault_filename = \"./source_data/faults_clip.shp\",\n",
    "    fold_filename = \"./source_data/folds_clip.shp\",\n",
    "    structure_filename = \"./source_data/structure_clip.shp\",\n",
    "    dtm_filename = './source_data/dtm_rp.tif',\n",
    "    config_filename = './source_data/example.hjson',\n",
    "    clut_filename = './source_data/500kibg_colours.csv',\n",
    "    clut_file_legacy = True,\n",
    "    verbose_level = VerboseLevel.NONE,\n",
    "    tmp_path = model_name,\n",
    "    working_projection = \"EPSG:28350\",\n",
    "    bounding_box = bounding_box,\n",
    "    loop_project_filename = loop_project_filename\n",
    ")\n",
    "proj.set_minimum_fault_length(5000.0)\n",
    "proj.set_sampler(Datatype.GEOLOGY, SamplerSpacing(50.0))\n",
    "proj.set_sampler(Datatype.STRUCTURE, SamplerDecimator(2))\n",
    "proj.map_data.config.geology_config[\"intrusive_text\"] = \"mafic intrusive\"\n",
    "proj.set_ignore_codes([\"cover\", \"Fortescue_Group\", \"A_FO_od\"])\n",
    "\n",
    "column = [\n",
    "    # youngest\n",
    "    'Turee_Creek_Group',\n",
    "    'Boolgeeda_Iron_Formation',\n",
    "    'Woongarra_Rhyolite',\n",
    "    'Weeli_Wolli_Formation',\n",
    "    'Brockman_Iron_Formation',\n",
    "    'Mount_McRae_Shale_and_Mount_Sylvia_Formation',\n",
    "    'Wittenoom_Formation',\n",
    "    'Marra_Mamba_Iron_Formation',\n",
    "    'Jeerinah_Formation',\n",
    "    'Bunjinah_Formation',\n",
    "    'Pyradie_Formation',\n",
    "    'Fortescue_Group',\n",
    "    # oldest\n",
    "]\n",
    "# proj.set_sorter(SorterUseNetworkX())\n",
    "proj.set_sorter(SorterAlpha())\n",
    "proj.run_all(take_best=True)\n",
    "# proj.run_all(user_defined_stratigraphic_column=column)\n",
    "\n",
    "t1 = time.time()"
   ]
  },
  {
   "cell_type": "markdown",
   "metadata": {},
   "source": [
    "## Loop Structural"
   ]
  },
  {
   "cell_type": "code",
   "execution_count": null,
   "metadata": {
    "scrolled": false
   },
   "outputs": [],
   "source": [
    "import LoopProjectFile as LPF\n",
    "from LoopStructural.visualisation import LavaVuModelViewer\n",
    "from LoopStructural.modelling.input.project_file import LoopProjectfileProcessor as LPFProcessor\n",
    "import LoopStructural\n",
    "import numpy as np\n",
    "from scipy.interpolate import RegularGridInterpolator\n",
    "from osgeo import gdal\n",
    "import pandas as pd\n",
    "\n",
    "t2 = time.time()\n",
    "\n",
    "LPFilename = loop_project_filename\n",
    "fault_params = {\n",
    "    'interpolatortype':'FDI',\n",
    "    'nelements':1e4,\n",
    "}\n",
    "foliation_params = {\n",
    "    'interpolatortype':'FDI' , # 'interpolatortype':'PLI',\n",
    "    'nelements':1e5,  # how many tetras/voxels\n",
    "    'regularisation':5,\n",
    "}\n",
    "\n",
    "projFile = LPF.ProjectFile(LPFilename)\n",
    "processedData = LPFProcessor(projFile)\n",
    "processedData.foliation_properties['sg'] = foliation_params\n",
    "processedData.fault_properties['interpolatortype'] = fault_params['interpolatortype']\n",
    "processedData.fault_properties['nelements'] = fault_params['nelements']\n",
    "\n",
    "model = LoopStructural.GeologicalModel.from_processor(processedData)\n",
    "model.update()\n",
    "\n",
    "clip_on_dtm=True\n",
    "if(clip_on_dtm):\n",
    "    bounding_box = proj.map_data.get_bounding_box()\n",
    "    minx = bounding_box['minx']\n",
    "    maxx = bounding_box['maxx']\n",
    "    miny = bounding_box['miny']\n",
    "    maxy = bounding_box['maxy']\n",
    "    model_base = bounding_box['base']\n",
    "    model_top = bounding_box['top']\n",
    "    dtm = gdal.Open(os.path.join(\"m2l_data_tmp\", \"StupidGDALLocalFile.tif\"))\n",
    "    dtm_val = dtm.GetRasterBand(1).ReadAsArray().T\n",
    "    # Convert bounds to gdal raster bounds\n",
    "    x=np.linspace(minx,maxx,dtm_val.shape[0])\n",
    "    y=np.linspace(miny,maxy,dtm_val.shape[0])\n",
    "    dtm_interpolator = RegularGridInterpolator((x,y),dtm_val)\n",
    "    model.dtm = lambda xyz : dtm_interpolator(xyz[:,:2])\n",
    "\n",
    "vtk_path = model_name+'/vtk/'\n",
    "filename = os.path.join(model_name,'vtk','surface_name_{}.vtk')\n",
    "view = LavaVuModelViewer(model)\n",
    "view.nsteps=np.array([50,50,50])\n",
    "for sg in model.feature_name_index:\n",
    "    if( 'super' in sg):\n",
    "        view.add_data(model.features[model.feature_name_index[sg]])\n",
    "view.nelements = 1e5\n",
    "view.add_model_surfaces(filename=filename,faults=False)\n",
    "view.nelements=1e6\n",
    "view.add_model_surfaces(filename=filename,strati=False,displacement_cmap = 'rainbow')\n",
    "view.lv.webgl(vtk_path+model_name)\n",
    "view.nsteps = np.array([200,200,200])\n",
    "if(clip_on_dtm):\n",
    "    colours = list(pd.DataFrame(data=proj.stratigraphic_column.column,columns=[\"name\"]).merge(proj.stratigraphic_column.stratigraphicUnits[[\"name\",\"colour\"]], on=\"name\")[\"colour\"])\n",
    "    colours.reverse()\n",
    "    view.add_dtm(paint_with=lambda xyz: model.evaluate_model(xyz,scale=False), cmap=colours)\n",
    "view.add_model()\n",
    "\n",
    "view.lv.control.Range('alpha', label=\"Global Opacity\")\n",
    "view.lv.control.DualRange(['xmin', 'xmax'], label=\"x clip\", step=0.01, values=[0.0,1.0])\n",
    "view.lv.control.DualRange(['ymin', 'ymax'], label=\"y clip\", step=0.01, values=[0.0,1.0])\n",
    "view.lv.control.DualRange(['zmin', 'zmax'], label=\"z clip\", step=0.01, values=[0.0,1.0])\n",
    "view.lv.control.Range(command='background', range=(0,1), step=0.1, value=0.8)\n",
    "view.lv.control.show() #Show the control panel, including the viewer window\n",
    "view.interactive()\n",
    "\n",
    "t3 = time.time()"
   ]
  },
  {
   "cell_type": "markdown",
   "metadata": {},
   "source": [
    "## Elapsed Time"
   ]
  },
  {
   "cell_type": "code",
   "execution_count": null,
   "metadata": {},
   "outputs": [],
   "source": [
    "# Print element and total processing time\n",
    "m2l_time = t1-t0\n",
    "ls_time = t3-t2\n",
    "total = t3-t0\n",
    "\n",
    "m2l_string = f\"{m2l_time} sec\" if m2l_time < 60 else f\"{m2l_time/60.0} min\"\n",
    "ls_string = f\"{ls_time} sec\" if ls_time < 60 else f\"{ls_time/60.0} min\"\n",
    "total_string = f\"{total} sec\" if total < 60 else f\"{total/60.0} min\"\n",
    "print(f\"map2loop {m2l_string}, LoopStructural {ls_string}, Total {total_string}\")"
   ]
  },
  {
   "cell_type": "code",
   "execution_count": null,
   "metadata": {},
   "outputs": [],
   "source": [
    "# Draw overlay of point data on geology map\n",
    "# (options are 'basal_contacts', contacts','orientations','faults')\n",
    "proj.draw_geology_map(overlay=\"basal_contacts\")"
   ]
  },
  {
   "cell_type": "code",
   "execution_count": null,
   "metadata": {},
   "outputs": [],
   "source": [
    "# Extract estimate of the stratigraphic column\n",
    "print(proj.stratigraphic_column.column)"
   ]
  },
  {
   "cell_type": "code",
   "execution_count": null,
   "metadata": {},
   "outputs": [],
   "source": []
  }
 ],
 "metadata": {
  "kernelspec": {
   "display_name": "Python 3 (ipykernel)",
   "language": "python",
   "name": "python3"
  },
  "language_info": {
   "codemirror_mode": {
    "name": "ipython",
    "version": 3
   },
   "file_extension": ".py",
   "mimetype": "text/x-python",
   "name": "python",
   "nbconvert_exporter": "python",
   "pygments_lexer": "ipython3",
   "version": "3.9.15"
  }
 },
 "nbformat": 4,
 "nbformat_minor": 4
}
