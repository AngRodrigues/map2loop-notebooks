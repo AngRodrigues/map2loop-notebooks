{
 "cells": [
  {
   "cell_type": "markdown",
   "metadata": {},
   "source": [
    "# Loop Workflow Example 5"
   ]
  },
  {
   "cell_type": "markdown",
   "metadata": {},
   "source": [
    "* This example is a how to for constructing your own thickness calculator\n",
    "* It builds on Example 3 and using the local data in the source_data directory"
   ]
  },
  {
   "cell_type": "code",
   "execution_count": null,
   "metadata": {},
   "outputs": [],
   "source": [
    "#if not already installed:\n",
    "#!conda install -c loop3d map2loop loopstructural pyamg meshio"
   ]
  },
  {
   "cell_type": "markdown",
   "metadata": {},
   "source": [
    "### Creating the replacement thickness calculator"
   ]
  },
  {
   "cell_type": "code",
   "execution_count": null,
   "metadata": {},
   "outputs": [],
   "source": [
    "# Create a class that inherits from map2loop.sorter\n",
    "from map2loop.thickness_calculator import ThicknessCalculator\n",
    "from map2loop.mapdata import MapData\n",
    "import geopandas\n",
    "import pandas\n",
    "\n",
    "class ThicknessCalculatorFixed(ThicknessCalculator):\n",
    "    # Name this sorter in the init function\n",
    "    # Add a variable for the fixed thickness value\n",
    "    def __init__(self, thickness=100):\n",
    "        self.sorter_label = \"ThicknessCalculatorFixed\"\n",
    "        self.default_thickness = thickness\n",
    "\n",
    "    # The structure of the sort function MUST match the Sorter sort function as it is\n",
    "    # replacing that abstract function\n",
    "    def compute(\n",
    "        self,\n",
    "        units: pandas.DataFrame,\n",
    "        stratigraphic_order: list,\n",
    "        basal_contacts: pandas.DataFrame,\n",
    "        map_data: MapData,\n",
    "    ) -> pandas.DataFrame:\n",
    "        # The output of this function is the units pandas.dataframe\n",
    "        # in this example we use the fixed value given at init\n",
    "        output_units = units.copy()\n",
    "        output_units['thickness'] = self.default_thickness\n",
    "        return output_units"
   ]
  },
  {
   "cell_type": "markdown",
   "metadata": {},
   "source": [
    "## Map2Loop (same as Example 3)"
   ]
  },
  {
   "cell_type": "code",
   "execution_count": null,
   "metadata": {},
   "outputs": [],
   "source": [
    "import os\n",
    "from map2loop.project import Project\n",
    "from map2loop.m2l_enums import VerboseLevel\n",
    "from map2loop.m2l_enums import Datatype\n",
    "from map2loop.sampler import SamplerSpacing, SamplerDecimator\n",
    "from map2loop.sorter import SorterUseHint, SorterUseNetworkX, SorterAgeBased, SorterAlpha\n",
    "import time\n",
    "\n",
    "from datetime import datetime\n",
    "nowtime=datetime.now().isoformat(timespec='minutes')   \n",
    "model_name=nowtime.replace(\":\",\"-\").replace(\"T\",\"-\")\n",
    "loop_project_filename = os.path.join(model_name, \"local_source.loop3d\")\n",
    "\n",
    "# Specify the boundary of the region of interest in the appropriate projection coordinates\n",
    "bounding_box = {\n",
    "    \"minx\": 520000,\n",
    "    \"miny\": 7490000,\n",
    "    \"maxx\": 550000,\n",
    "    \"maxy\": 7510000,\n",
    "    \"base\": -3200,\n",
    "    \"top\": 1200,\n",
    "}\n",
    "# Initialise the project with the shapefiles, dtm, config file\n",
    "# output locations and projection to work in\n",
    "proj = Project( \n",
    "    geology_filename = \"./source_data/geol_clip.shp\",\n",
    "    fault_filename = \"./source_data/faults_clip.shp\",\n",
    "    structure_filename = \"./source_data/structure_clip.shp\",\n",
    "    dtm_filename = './source_data/dtm_rp.tif',\n",
    "    config_filename = './source_data/example.hjson',\n",
    "    clut_filename = './source_data/500kibg_colours.csv',\n",
    "    clut_file_legacy = True,\n",
    "    verbose_level = VerboseLevel.NONE,\n",
    "    tmp_path = model_name,\n",
    "    working_projection = \"EPSG:28350\",\n",
    "    bounding_box = bounding_box,\n",
    "    loop_project_filename = loop_project_filename\n",
    ")\n",
    "\n",
    "# Remove faults less than 5km\n",
    "proj.set_minimum_fault_length(5000.0)\n",
    "\n",
    "# Set sampling distance for geology and fault maps to 200m\n",
    "proj.set_sampler(Datatype.GEOLOGY, SamplerSpacing(200.0))\n",
    "proj.set_sampler(Datatype.FAULT, SamplerSpacing(200.0))\n",
    "\n",
    "# Set to only take every second orientation observation (0 or 1 means take all observations)\n",
    "proj.set_sampler(Datatype.STRUCTURE, SamplerDecimator(2))\n",
    "\n",
    "# Set what text is expected for intrusions (contained within the description field)\n",
    "proj.map_data.config.geology_config[\"intrusive_text\"] = \"mafic intrusive\"\n",
    "\n",
    "# Set specific layers from the geology map to be ignored (commonly \"cover\" or \"water\")\n",
    "proj.set_ignore_codes([\"cover\", \"Fortescue_Group\", \"A_FO_od\"])"
   ]
  },
  {
   "cell_type": "markdown",
   "metadata": {},
   "source": [
    "### Inserting the thickness calculator into the map2loop process "
   ]
  },
  {
   "cell_type": "code",
   "execution_count": null,
   "metadata": {},
   "outputs": [],
   "source": [
    "# This step sets the newly created sorter as the one map2loop will use\n",
    "proj.set_thickness_calculator(ThicknessCalculatorFixed(50))\n",
    "proj.run_all()"
   ]
  },
  {
   "cell_type": "markdown",
   "metadata": {},
   "source": [
    "### Checking the units thickness values"
   ]
  },
  {
   "cell_type": "code",
   "execution_count": null,
   "metadata": {},
   "outputs": [],
   "source": [
    "print(proj.stratigraphic_column.stratigraphicUnits[['name','thickness']])"
   ]
  },
  {
   "cell_type": "code",
   "execution_count": null,
   "metadata": {},
   "outputs": [],
   "source": []
  }
 ],
 "metadata": {
  "kernelspec": {
   "display_name": "Python 3 (ipykernel)",
   "language": "python",
   "name": "python3"
  },
  "language_info": {
   "codemirror_mode": {
    "name": "ipython",
    "version": 3
   },
   "file_extension": ".py",
   "mimetype": "text/x-python",
   "name": "python",
   "nbconvert_exporter": "python",
   "pygments_lexer": "ipython3",
   "version": "3.9.18"
  }
 },
 "nbformat": 4,
 "nbformat_minor": 4
}
